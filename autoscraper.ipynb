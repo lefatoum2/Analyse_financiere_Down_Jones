{
 "cells": [
  {
   "cell_type": "markdown",
   "metadata": {},
   "source": [
    "# <center> Down Jones <center>\n"
   ]
  },
  {
   "cell_type": "markdown",
   "metadata": {},
   "source": [
    "![title3](./wall-street1.webp)\n"
   ]
  },
  {
   "cell_type": "code",
   "execution_count": 104,
   "metadata": {},
   "outputs": [],
   "source": [
    "from autoscraper import AutoScraper\n",
    "# Mise en place de l'autoscraper\n",
    "\n",
    "url = 'https://en.wikipedia.org/wiki/Dow_Jones_Industrial_Average'\n",
    "\n",
    "wanted_dict = {\n",
    "    \n",
    "    'Closing value': ['39.29', '41.03'],\n",
    "    'Change in points': ['10.83','1.74'],\n",
    "    'Change in percent': ['38.05','4.43']\n",
    "}\n",
    "\n",
    "scraper = AutoScraper()\n",
    "scraper.build(url=url, wanted_dict=wanted_dict)\n",
    "\n",
    "\n",
    "\n",
    "# Mise en place des règles avec les données\n",
    "fg = scraper.get_result_similar(url, grouped=True)"
   ]
  },
  {
   "cell_type": "code",
   "execution_count": 105,
   "metadata": {},
   "outputs": [],
   "source": [
    "import pandas as pd\n",
    "df4 = pd.DataFrame(fg)"
   ]
  },
  {
   "cell_type": "code",
   "execution_count": 106,
   "metadata": {},
   "outputs": [
    {
     "data": {
      "text/html": [
       "<div>\n",
       "<style scoped>\n",
       "    .dataframe tbody tr th:only-of-type {\n",
       "        vertical-align: middle;\n",
       "    }\n",
       "\n",
       "    .dataframe tbody tr th {\n",
       "        vertical-align: top;\n",
       "    }\n",
       "\n",
       "    .dataframe thead th {\n",
       "        text-align: right;\n",
       "    }\n",
       "</style>\n",
       "<table border=\"1\" class=\"dataframe\">\n",
       "  <thead>\n",
       "    <tr style=\"text-align: right;\">\n",
       "      <th></th>\n",
       "      <th>rule_85yw</th>\n",
       "      <th>rule_pcbq</th>\n",
       "      <th>rule_r6um</th>\n",
       "      <th>rule_a5z3</th>\n",
       "      <th>rule_ikq7</th>\n",
       "      <th>rule_xqsk</th>\n",
       "    </tr>\n",
       "  </thead>\n",
       "  <tbody>\n",
       "    <tr>\n",
       "      <th>0</th>\n",
       "      <td>39.29</td>\n",
       "      <td>39.29</td>\n",
       "      <td>10.83</td>\n",
       "      <td>10.83</td>\n",
       "      <td>38.05</td>\n",
       "      <td>38.05</td>\n",
       "    </tr>\n",
       "    <tr>\n",
       "      <th>1</th>\n",
       "      <td>41.03</td>\n",
       "      <td>41.03</td>\n",
       "      <td>1.74</td>\n",
       "      <td>1.74</td>\n",
       "      <td>4.43</td>\n",
       "      <td>4.43</td>\n",
       "    </tr>\n",
       "    <tr>\n",
       "      <th>2</th>\n",
       "      <td>37.58</td>\n",
       "      <td>37.58</td>\n",
       "      <td>−3.45</td>\n",
       "      <td>−3.45</td>\n",
       "      <td>−8.41</td>\n",
       "      <td>−8.41</td>\n",
       "    </tr>\n",
       "    <tr>\n",
       "      <th>3</th>\n",
       "      <td>39.39</td>\n",
       "      <td>39.39</td>\n",
       "      <td>1.81</td>\n",
       "      <td>1.81</td>\n",
       "      <td>4.82</td>\n",
       "      <td>4.82</td>\n",
       "    </tr>\n",
       "    <tr>\n",
       "      <th>4</th>\n",
       "      <td>41.56</td>\n",
       "      <td>41.56</td>\n",
       "      <td>2.17</td>\n",
       "      <td>2.17</td>\n",
       "      <td>5.51</td>\n",
       "      <td>5.51</td>\n",
       "    </tr>\n",
       "    <tr>\n",
       "      <th>...</th>\n",
       "      <td>...</td>\n",
       "      <td>...</td>\n",
       "      <td>...</td>\n",
       "      <td>...</td>\n",
       "      <td>...</td>\n",
       "      <td>...</td>\n",
       "    </tr>\n",
       "    <tr>\n",
       "      <th>131</th>\n",
       "      <td>19,762.60</td>\n",
       "      <td>19,762.60</td>\n",
       "      <td>2,337.57</td>\n",
       "      <td>2,337.57</td>\n",
       "      <td>13.42</td>\n",
       "      <td>13.42</td>\n",
       "    </tr>\n",
       "    <tr>\n",
       "      <th>132</th>\n",
       "      <td>24,719.22</td>\n",
       "      <td>24,719.22</td>\n",
       "      <td>4,956.62</td>\n",
       "      <td>4,956.62</td>\n",
       "      <td>25.08</td>\n",
       "      <td>25.08</td>\n",
       "    </tr>\n",
       "    <tr>\n",
       "      <th>133</th>\n",
       "      <td>23,327.46</td>\n",
       "      <td>23,327.46</td>\n",
       "      <td>−1,391.76</td>\n",
       "      <td>−1,391.76</td>\n",
       "      <td>−5.63</td>\n",
       "      <td>−5.63</td>\n",
       "    </tr>\n",
       "    <tr>\n",
       "      <th>134</th>\n",
       "      <td>28,538.44</td>\n",
       "      <td>28,538.44</td>\n",
       "      <td>5,210.98</td>\n",
       "      <td>5,210.98</td>\n",
       "      <td>22.34</td>\n",
       "      <td>22.34</td>\n",
       "    </tr>\n",
       "    <tr>\n",
       "      <th>135</th>\n",
       "      <td>30,606.48</td>\n",
       "      <td>30,606.48</td>\n",
       "      <td>2,068.04</td>\n",
       "      <td>2,068.04</td>\n",
       "      <td>7.25</td>\n",
       "      <td>7.25</td>\n",
       "    </tr>\n",
       "  </tbody>\n",
       "</table>\n",
       "<p>136 rows × 6 columns</p>\n",
       "</div>"
      ],
      "text/plain": [
       "     rule_85yw  rule_pcbq  rule_r6um  rule_a5z3 rule_ikq7 rule_xqsk\n",
       "0        39.29      39.29      10.83      10.83     38.05     38.05\n",
       "1        41.03      41.03       1.74       1.74      4.43      4.43\n",
       "2        37.58      37.58      −3.45      −3.45     −8.41     −8.41\n",
       "3        39.39      39.39       1.81       1.81      4.82      4.82\n",
       "4        41.56      41.56       2.17       2.17      5.51      5.51\n",
       "..         ...        ...        ...        ...       ...       ...\n",
       "131  19,762.60  19,762.60   2,337.57   2,337.57     13.42     13.42\n",
       "132  24,719.22  24,719.22   4,956.62   4,956.62     25.08     25.08\n",
       "133  23,327.46  23,327.46  −1,391.76  −1,391.76     −5.63     −5.63\n",
       "134  28,538.44  28,538.44   5,210.98   5,210.98     22.34     22.34\n",
       "135  30,606.48  30,606.48   2,068.04   2,068.04      7.25      7.25\n",
       "\n",
       "[136 rows x 6 columns]"
      ]
     },
     "execution_count": 106,
     "metadata": {},
     "output_type": "execute_result"
    }
   ],
   "source": [
    "df4"
   ]
  },
  {
   "cell_type": "code",
   "execution_count": 108,
   "metadata": {},
   "outputs": [],
   "source": [
    "# Suppression de colomne en double\n",
    "df4 = df4.drop([\"rule_pcbq\",\"rule_a5z3\",\"rule_xqsk\"],axis =1)\n"
   ]
  },
  {
   "cell_type": "code",
   "execution_count": 109,
   "metadata": {},
   "outputs": [],
   "source": [
    "# Renommer les colomnes\n",
    "df4.columns = ['Closing value','Change in points','Change in percent']"
   ]
  },
  {
   "cell_type": "code",
   "execution_count": 110,
   "metadata": {},
   "outputs": [
    {
     "data": {
      "text/html": [
       "<div>\n",
       "<style scoped>\n",
       "    .dataframe tbody tr th:only-of-type {\n",
       "        vertical-align: middle;\n",
       "    }\n",
       "\n",
       "    .dataframe tbody tr th {\n",
       "        vertical-align: top;\n",
       "    }\n",
       "\n",
       "    .dataframe thead th {\n",
       "        text-align: right;\n",
       "    }\n",
       "</style>\n",
       "<table border=\"1\" class=\"dataframe\">\n",
       "  <thead>\n",
       "    <tr style=\"text-align: right;\">\n",
       "      <th></th>\n",
       "      <th>Closing value</th>\n",
       "      <th>Change in points</th>\n",
       "      <th>Change in percent</th>\n",
       "    </tr>\n",
       "  </thead>\n",
       "  <tbody>\n",
       "    <tr>\n",
       "      <th>0</th>\n",
       "      <td>39.29</td>\n",
       "      <td>10.83</td>\n",
       "      <td>38.05</td>\n",
       "    </tr>\n",
       "    <tr>\n",
       "      <th>1</th>\n",
       "      <td>41.03</td>\n",
       "      <td>1.74</td>\n",
       "      <td>4.43</td>\n",
       "    </tr>\n",
       "    <tr>\n",
       "      <th>2</th>\n",
       "      <td>37.58</td>\n",
       "      <td>−3.45</td>\n",
       "      <td>−8.41</td>\n",
       "    </tr>\n",
       "    <tr>\n",
       "      <th>3</th>\n",
       "      <td>39.39</td>\n",
       "      <td>1.81</td>\n",
       "      <td>4.82</td>\n",
       "    </tr>\n",
       "    <tr>\n",
       "      <th>4</th>\n",
       "      <td>41.56</td>\n",
       "      <td>2.17</td>\n",
       "      <td>5.51</td>\n",
       "    </tr>\n",
       "    <tr>\n",
       "      <th>...</th>\n",
       "      <td>...</td>\n",
       "      <td>...</td>\n",
       "      <td>...</td>\n",
       "    </tr>\n",
       "    <tr>\n",
       "      <th>131</th>\n",
       "      <td>19,762.60</td>\n",
       "      <td>2,337.57</td>\n",
       "      <td>13.42</td>\n",
       "    </tr>\n",
       "    <tr>\n",
       "      <th>132</th>\n",
       "      <td>24,719.22</td>\n",
       "      <td>4,956.62</td>\n",
       "      <td>25.08</td>\n",
       "    </tr>\n",
       "    <tr>\n",
       "      <th>133</th>\n",
       "      <td>23,327.46</td>\n",
       "      <td>−1,391.76</td>\n",
       "      <td>−5.63</td>\n",
       "    </tr>\n",
       "    <tr>\n",
       "      <th>134</th>\n",
       "      <td>28,538.44</td>\n",
       "      <td>5,210.98</td>\n",
       "      <td>22.34</td>\n",
       "    </tr>\n",
       "    <tr>\n",
       "      <th>135</th>\n",
       "      <td>30,606.48</td>\n",
       "      <td>2,068.04</td>\n",
       "      <td>7.25</td>\n",
       "    </tr>\n",
       "  </tbody>\n",
       "</table>\n",
       "<p>136 rows × 3 columns</p>\n",
       "</div>"
      ],
      "text/plain": [
       "    Closing value Change in points Change in percent\n",
       "0           39.29            10.83             38.05\n",
       "1           41.03             1.74              4.43\n",
       "2           37.58            −3.45             −8.41\n",
       "3           39.39             1.81              4.82\n",
       "4           41.56             2.17              5.51\n",
       "..            ...              ...               ...\n",
       "131     19,762.60         2,337.57             13.42\n",
       "132     24,719.22         4,956.62             25.08\n",
       "133     23,327.46        −1,391.76             −5.63\n",
       "134     28,538.44         5,210.98             22.34\n",
       "135     30,606.48         2,068.04              7.25\n",
       "\n",
       "[136 rows x 3 columns]"
      ]
     },
     "execution_count": 110,
     "metadata": {},
     "output_type": "execute_result"
    }
   ],
   "source": [
    "df4"
   ]
  },
  {
   "cell_type": "code",
   "execution_count": 111,
   "metadata": {},
   "outputs": [
    {
     "name": "stdout",
     "output_type": "stream",
     "text": [
      "<class 'pandas.core.frame.DataFrame'>\n",
      "RangeIndex: 136 entries, 0 to 135\n",
      "Data columns (total 3 columns):\n",
      " #   Column             Non-Null Count  Dtype \n",
      "---  ------             --------------  ----- \n",
      " 0   Closing value      136 non-null    object\n",
      " 1   Change in points   136 non-null    object\n",
      " 2   Change in percent  136 non-null    object\n",
      "dtypes: object(3)\n",
      "memory usage: 3.3+ KB\n"
     ]
    }
   ],
   "source": [
    "df4.info()"
   ]
  },
  {
   "cell_type": "code",
   "execution_count": 112,
   "metadata": {},
   "outputs": [],
   "source": [
    "import re\n",
    "def process_num(num):\n",
    "    return float(re.sub(r'[^\\w\\s.]','',num))"
   ]
  },
  {
   "cell_type": "code",
   "execution_count": 113,
   "metadata": {},
   "outputs": [],
   "source": [
    "# Application de la fonction process_num sur la colomne \"Closing value\"\n",
    "df4[\"Closing value\"] = df4[\"Closing value\"].apply(process_num)"
   ]
  },
  {
   "cell_type": "code",
   "execution_count": 114,
   "metadata": {},
   "outputs": [],
   "source": [
    "# Application de la fonction process_num sur la colomne \"Change in points\"\n",
    "\n",
    "df4[\"Change in points\"] = df4[\"Change in points\"].apply(process_num)"
   ]
  },
  {
   "cell_type": "code",
   "execution_count": 115,
   "metadata": {},
   "outputs": [],
   "source": [
    "# Application de la fonction process_num sur la colomne \"Change in percent\"\n",
    "\n",
    "df4[\"Change in percent\"] = df4[\"Change in percent\"].apply(process_num)"
   ]
  },
  {
   "cell_type": "code",
   "execution_count": 116,
   "metadata": {},
   "outputs": [],
   "source": [
    "# Insertion des années en int\n",
    "\n",
    "df4.insert(0,\"Annee\",[i for i in range(1885,2021)])"
   ]
  },
  {
   "cell_type": "code",
   "execution_count": 117,
   "metadata": {},
   "outputs": [
    {
     "data": {
      "text/html": [
       "<div>\n",
       "<style scoped>\n",
       "    .dataframe tbody tr th:only-of-type {\n",
       "        vertical-align: middle;\n",
       "    }\n",
       "\n",
       "    .dataframe tbody tr th {\n",
       "        vertical-align: top;\n",
       "    }\n",
       "\n",
       "    .dataframe thead th {\n",
       "        text-align: right;\n",
       "    }\n",
       "</style>\n",
       "<table border=\"1\" class=\"dataframe\">\n",
       "  <thead>\n",
       "    <tr style=\"text-align: right;\">\n",
       "      <th></th>\n",
       "      <th>Annee</th>\n",
       "      <th>Closing value</th>\n",
       "      <th>Change in points</th>\n",
       "      <th>Change in percent</th>\n",
       "    </tr>\n",
       "  </thead>\n",
       "  <tbody>\n",
       "    <tr>\n",
       "      <th>0</th>\n",
       "      <td>1885</td>\n",
       "      <td>39.29</td>\n",
       "      <td>10.83</td>\n",
       "      <td>38.05</td>\n",
       "    </tr>\n",
       "    <tr>\n",
       "      <th>1</th>\n",
       "      <td>1886</td>\n",
       "      <td>41.03</td>\n",
       "      <td>1.74</td>\n",
       "      <td>4.43</td>\n",
       "    </tr>\n",
       "    <tr>\n",
       "      <th>2</th>\n",
       "      <td>1887</td>\n",
       "      <td>37.58</td>\n",
       "      <td>3.45</td>\n",
       "      <td>8.41</td>\n",
       "    </tr>\n",
       "    <tr>\n",
       "      <th>3</th>\n",
       "      <td>1888</td>\n",
       "      <td>39.39</td>\n",
       "      <td>1.81</td>\n",
       "      <td>4.82</td>\n",
       "    </tr>\n",
       "    <tr>\n",
       "      <th>4</th>\n",
       "      <td>1889</td>\n",
       "      <td>41.56</td>\n",
       "      <td>2.17</td>\n",
       "      <td>5.51</td>\n",
       "    </tr>\n",
       "    <tr>\n",
       "      <th>...</th>\n",
       "      <td>...</td>\n",
       "      <td>...</td>\n",
       "      <td>...</td>\n",
       "      <td>...</td>\n",
       "    </tr>\n",
       "    <tr>\n",
       "      <th>131</th>\n",
       "      <td>2016</td>\n",
       "      <td>19762.60</td>\n",
       "      <td>2337.57</td>\n",
       "      <td>13.42</td>\n",
       "    </tr>\n",
       "    <tr>\n",
       "      <th>132</th>\n",
       "      <td>2017</td>\n",
       "      <td>24719.22</td>\n",
       "      <td>4956.62</td>\n",
       "      <td>25.08</td>\n",
       "    </tr>\n",
       "    <tr>\n",
       "      <th>133</th>\n",
       "      <td>2018</td>\n",
       "      <td>23327.46</td>\n",
       "      <td>1391.76</td>\n",
       "      <td>5.63</td>\n",
       "    </tr>\n",
       "    <tr>\n",
       "      <th>134</th>\n",
       "      <td>2019</td>\n",
       "      <td>28538.44</td>\n",
       "      <td>5210.98</td>\n",
       "      <td>22.34</td>\n",
       "    </tr>\n",
       "    <tr>\n",
       "      <th>135</th>\n",
       "      <td>2020</td>\n",
       "      <td>30606.48</td>\n",
       "      <td>2068.04</td>\n",
       "      <td>7.25</td>\n",
       "    </tr>\n",
       "  </tbody>\n",
       "</table>\n",
       "<p>136 rows × 4 columns</p>\n",
       "</div>"
      ],
      "text/plain": [
       "     Annee  Closing value  Change in points  Change in percent\n",
       "0     1885          39.29             10.83              38.05\n",
       "1     1886          41.03              1.74               4.43\n",
       "2     1887          37.58              3.45               8.41\n",
       "3     1888          39.39              1.81               4.82\n",
       "4     1889          41.56              2.17               5.51\n",
       "..     ...            ...               ...                ...\n",
       "131   2016       19762.60           2337.57              13.42\n",
       "132   2017       24719.22           4956.62              25.08\n",
       "133   2018       23327.46           1391.76               5.63\n",
       "134   2019       28538.44           5210.98              22.34\n",
       "135   2020       30606.48           2068.04               7.25\n",
       "\n",
       "[136 rows x 4 columns]"
      ]
     },
     "execution_count": 117,
     "metadata": {},
     "output_type": "execute_result"
    }
   ],
   "source": [
    "df4"
   ]
  },
  {
   "cell_type": "code",
   "execution_count": 118,
   "metadata": {},
   "outputs": [],
   "source": [
    "# Enregistrement du dataframe en csv\n",
    "df4.to_csv('trade5.csv')"
   ]
  },
  {
   "cell_type": "code",
   "execution_count": 119,
   "metadata": {},
   "outputs": [
    {
     "data": {
      "text/plain": [
       "<AxesSubplot:>"
      ]
     },
     "execution_count": 119,
     "metadata": {},
     "output_type": "execute_result"
    },
    {
     "data": {
      "image/png": "[encoded data removed]",
      "text/plain": [
       "<Figure size 432x288 with 1 Axes>"
      ]
     },
     "metadata": {
      "needs_background": "light"
     },
     "output_type": "display_data"
    }
   ],
   "source": [
    "import pandas as pd\n",
    "df4 = pd.read_csv('trade5.csv')\n",
    "df4.plot.bar()"
   ]
  },
  {
   "cell_type": "code",
   "execution_count": 120,
   "metadata": {},
   "outputs": [
    {
     "data": {
      "text/plain": [
       "<AxesSubplot:>"
      ]
     },
     "execution_count": 120,
     "metadata": {},
     "output_type": "execute_result"
    },
    {
     "data": {
      "image/png": "[encoded data removed]",
      "text/plain": [
       "<Figure size 432x288 with 1 Axes>"
      ]
     },
     "metadata": {
      "needs_background": "light"
     },
     "output_type": "display_data"
    }
   ],
   "source": [
    "df4.plot.box()"
   ]
  },
  {
   "cell_type": "code",
   "execution_count": 121,
   "metadata": {},
   "outputs": [
    {
     "name": "stdout",
     "output_type": "stream",
     "text": [
      "<class 'pandas.core.frame.DataFrame'>\n",
      "RangeIndex: 136 entries, 0 to 135\n",
      "Data columns (total 5 columns):\n",
      " #   Column             Non-Null Count  Dtype  \n",
      "---  ------             --------------  -----  \n",
      " 0   Unnamed: 0         136 non-null    int64  \n",
      " 1   Annee              136 non-null    int64  \n",
      " 2   Closing value      136 non-null    float64\n",
      " 3   Change in points   136 non-null    float64\n",
      " 4   Change in percent  136 non-null    float64\n",
      "dtypes: float64(3), int64(2)\n",
      "memory usage: 5.4 KB\n"
     ]
    }
   ],
   "source": [
    "df4.info()"
   ]
  },
  {
   "cell_type": "code",
   "execution_count": null,
   "metadata": {},
   "outputs": [],
   "source": []
  }
 ],
 "metadata": {
  "kernelspec": {
   "display_name": "Python 3",
   "language": "python",
   "name": "python3"
  },
  "language_info": {
   "codemirror_mode": {
    "name": "ipython",
    "version": 3
   },
   "file_extension": ".py",
   "mimetype": "text/x-python",
   "name": "python",
   "nbconvert_exporter": "python",
   "pygments_lexer": "ipython3",
   "version": "3.8.5"
  }
 },
 "nbformat": 4,
 "nbformat_minor": 4
}
